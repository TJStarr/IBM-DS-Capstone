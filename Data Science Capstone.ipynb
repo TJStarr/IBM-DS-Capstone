{
    "cells": [
        {
            "metadata": {
                "collapsed": true
            },
            "cell_type": "markdown",
            "source": "# Data Science Professional Certificate Capstone"
        },
        {
            "metadata": {},
            "cell_type": "markdown",
            "source": "This Notebook will be used for my IBM Data Science Certificate Capstone Project."
        },
        {
            "metadata": {},
            "cell_type": "code",
            "source": "import pandas as pd\nimport numpy as np",
            "execution_count": 1,
            "outputs": []
        },
        {
            "metadata": {},
            "cell_type": "markdown",
            "source": "### Hello Capstone Project Course!"
        },
        {
            "metadata": {},
            "cell_type": "markdown",
            "source": "# Introduction/Business Problem"
        },
        {
            "metadata": {},
            "cell_type": "markdown",
            "source": "The severity of a vehicular collision often involves multiple factors. Road conditions, weather, speeding, driver inattention and intoxication are amongst the most significant contributors to an outcome involving mild, moderate and serious injury, or even fatality. Therefore, the ability to predict which combinations of factors are likely to result in injuries would be highly beneficial. If we are able to build machine learning models to assist us in this task, then we may be able to effect public policy change, and perhaps even influence citizen behaviour, in order to mitigate the devastation caused by traffic collisions."
        },
        {
            "metadata": {},
            "cell_type": "markdown",
            "source": "### Stakeholders"
        },
        {
            "metadata": {},
            "cell_type": "markdown",
            "source": "The outcome of this research would be of value to many entities. Police expend large amounts of time, energy and resources to combat poor driving and its results. The medical community also has many of its resources consumed by caring for victims of accidents that may be preventable. Knowing where and when to focus resources to prevent collisions, or at least to mitigate their severity, would therefore be of value as a general governmental policy objective that would increase the efficiency of public spending. This knowledge would also be of direct interest to individual citizens. The situations that result in the most severe fatalities would be ones they would want to avoid. A greater knowledge of the constitutive factors of severe accidents could be used as the basis for writing and fine-tuning artificial intellgience algorithms, that could then be integrate into consumer-level GPS systems in order to provide individuals with early warnings. Consumers might them be able to adjust their driving habits so as to avoid placing themselves in high-risk collision situations in the first place."
        },
        {
            "metadata": {},
            "cell_type": "markdown",
            "source": "\n\n"
        },
        {
            "metadata": {},
            "cell_type": "markdown",
            "source": "# Data"
        },
        {
            "metadata": {},
            "cell_type": "markdown",
            "source": "We will be using a data set compiled by the Seattle Department of Transportation. SDOT has collected information on all collisions that have occurred in the city from 2004 to the present. It includes information on the outcomes of collisons, such as:\n\n- The severity of the collison: whether it resulted in only property damage, injury, serious injury, or fatality;\n- numbers of entities involved: for example, whether the accident involved multiple people, multiple injuries, and multiple vehicles;\n- the mode of transport of the collision victims: for example, how many pedestrians were involved, the number of bicyclists, and the number of drivers;\n- factors involved in the collision: for example, was inattention involved? Was a motorist speeding? Were they under the influence? Did a driver fail to give right of way to a pedestrian? Were parked vehicles hit in the collision?\n"
        },
        {
            "metadata": {},
            "cell_type": "code",
            "source": "",
            "execution_count": null,
            "outputs": []
        }
    ],
    "metadata": {
        "kernelspec": {
            "name": "python3",
            "display_name": "Python 3.6",
            "language": "python"
        },
        "language_info": {
            "name": "python",
            "version": "3.6.9",
            "mimetype": "text/x-python",
            "codemirror_mode": {
                "name": "ipython",
                "version": 3
            },
            "pygments_lexer": "ipython3",
            "nbconvert_exporter": "python",
            "file_extension": ".py"
        }
    },
    "nbformat": 4,
    "nbformat_minor": 1
}